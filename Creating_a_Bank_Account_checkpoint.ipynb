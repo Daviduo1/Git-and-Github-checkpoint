{
  "nbformat": 4,
  "nbformat_minor": 0,
  "metadata": {
    "colab": {
      "provenance": [],
      "authorship_tag": "ABX9TyOH4esRkrsnwrNhC4JldjAX",
      "include_colab_link": true
    },
    "kernelspec": {
      "name": "python3",
      "display_name": "Python 3"
    },
    "language_info": {
      "name": "python"
    }
  },
  "cells": [
    {
      "cell_type": "markdown",
      "metadata": {
        "id": "view-in-github",
        "colab_type": "text"
      },
      "source": [
        "<a href=\"https://colab.research.google.com/github/Daviduo1/Git-and-Github-checkpoint/blob/main/Creating_a_Bank_Account_checkpoint.ipynb\" target=\"_parent\"><img src=\"https://colab.research.google.com/assets/colab-badge.svg\" alt=\"Open In Colab\"/></a>"
      ]
    },
    {
      "cell_type": "code",
      "execution_count": 1,
      "metadata": {
        "colab": {
          "base_uri": "https://localhost:8080/"
        },
        "id": "Z4hPrSLl1bkG",
        "outputId": "0b4de2af-888a-4ad7-c0a9-4d599005b8e2"
      },
      "outputs": [
        {
          "output_type": "stream",
          "name": "stdout",
          "text": [
            "Welcome to David bank\n",
            "enter deposit amounts: 50000000000\n",
            "Deposited 50000000000. New balance is 50000000000.0.\n",
            "enter withdraw amounts: 300000.67\n",
            "Withdrew 300000.67. New balance is $49999699999.33.\n",
            "Current balance: $49999699999.33\n",
            "enter deposit amounts: 909876252728\n",
            "Deposited 909876252728. New balance is 909876252728.0.\n",
            "enter withdraw amounts: 30000\n",
            "Withdrew 30000. New balance is $909876222728.0.\n",
            "Account1 balance: $909876222728.0\n",
            "enter deposit amounts: 452728828\n",
            "Deposited 452728828. New balance is 452728828.0.\n",
            "enter withdraw amounts: 40000\n",
            "Withdrew 40000. New balance is $452688828.0.\n",
            "Account2 balance: $452688828.0\n"
          ]
        }
      ],
      "source": [
        "# bank_account.py\n",
        "\n",
        "class Account:\n",
        "    def __init__(self, account_number: int, account_balance: float, account_holder: str):\n",
        "        self.account_number = account_number\n",
        "        self.account_balance = account_balance\n",
        "        self.account_holder = account_holder\n",
        "\n",
        "    def deposit(self, amount: float):\n",
        "        self.account_balance += float(amount)\n",
        "        print(f\"Deposited {amount}. New balance is {self.account_balance}.\")\n",
        "\n",
        "    def withdraw(self, amount: float):\n",
        "        if self.account_balance >= float(amount):\n",
        "            self.account_balance -= float(amount)\n",
        "            print(f\"Withdrew {amount}. New balance is ${self.account_balance}.\")\n",
        "        else:\n",
        "            print(\"Insufficient funds.\")\n",
        "\n",
        "    def check_balance(self):\n",
        "        return self.account_balance\n",
        "\n",
        "# Create an instance of the Account class\n",
        "print(f\"Welcome to David bank\")\n",
        "my_account = Account(\"123456789\", 0.0, \"John Doe\")\n",
        "\n",
        "# Use the methods of the class\n",
        "my_account.deposit(input('enter deposit amounts: '))\n",
        "my_account.withdraw(input('enter withdraw amounts: '))\n",
        "print(f\"Current balance: ${my_account.check_balance()}\")\n",
        "\n",
        "# Test the program with multiple instances\n",
        "account1 = Account(\"987654321\", 0.0, \"Jane Smith\")\n",
        "account2 = Account(\"555555555\", 0.0, \"Alice Johnson\")\n",
        "\n",
        "account1.deposit(input('enter deposit amounts: '))\n",
        "account1.withdraw(input('enter withdraw amounts: '))\n",
        "print(f\"Account1 balance: ${account1.check_balance()}\")\n",
        "\n",
        "account2.deposit(input('enter deposit amounts: '))\n",
        "account2.withdraw(input('enter withdraw amounts: '))\n",
        "print(f\"Account2 balance: ${account2.check_balance()}\")"
      ]
    }
  ]
}