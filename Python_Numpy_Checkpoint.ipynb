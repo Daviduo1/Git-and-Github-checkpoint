{
  "nbformat": 4,
  "nbformat_minor": 0,
  "metadata": {
    "colab": {
      "provenance": [],
      "authorship_tag": "ABX9TyPVyDCAr6PNNmz0U7kKW0Q4",
      "include_colab_link": true
    },
    "kernelspec": {
      "name": "python3",
      "display_name": "Python 3"
    },
    "language_info": {
      "name": "python"
    }
  },
  "cells": [
    {
      "cell_type": "markdown",
      "metadata": {
        "id": "view-in-github",
        "colab_type": "text"
      },
      "source": [
        "<a href=\"https://colab.research.google.com/github/Daviduo1/Git-and-Github-checkpoint/blob/main/Python_Numpy_Checkpoint.ipynb\" target=\"_parent\"><img src=\"https://colab.research.google.com/assets/colab-badge.svg\" alt=\"Open In Colab\"/></a>"
      ]
    },
    {
      "cell_type": "code",
      "execution_count": 9,
      "metadata": {
        "colab": {
          "base_uri": "https://localhost:8080/"
        },
        "id": "oBntYn168qjr",
        "outputId": "480c59e6-f30b-4e8d-9747-2320e0030441"
      },
      "outputs": [
        {
          "output_type": "stream",
          "name": "stdout",
          "text": [
            "[85 90 88 92 95 80 75 98 89 83]\n",
            "Mean: 87.5\n",
            "Median: 88.5\n",
            "Standard Deviation: 6.591661399070799\n",
            "Maximum grade: 98\n",
            "Minimum grade: 75\n",
            "Sorted grades: [75 80 83 85 88 89 90 92 95 98]\n",
            "Index of the highest grade: 7\n",
            "Number of students who scored above 90: 3\n",
            "Percentage of students who scored above 90: 30.0%\n",
            "Percentage of students who scored below 75: 0.0%\n",
            "High performers: [92 95 98]\n",
            "Passing grades: [85 90 88 92 95 80 98 89 83]\n"
          ]
        }
      ],
      "source": [
        "import numpy as np\n",
        "\n",
        "grades = np.array([85, 90, 88, 92, 95, 80, 75, 98, 89, 83])\n",
        "print(grades)\n",
        "\n",
        "mean = np.mean(grades)\n",
        "median = np.median(grades)\n",
        "std_deviation = np.std(grades)\n",
        "\n",
        "print(f\"Mean: {mean}\")\n",
        "print(f\"Median: {median}\")\n",
        "print(f\"Standard Deviation: {std_deviation}\")\n",
        "\n",
        "max_grade = np.max(grades)\n",
        "min_grade = np.min(grades)\n",
        "\n",
        "print(f\"Maximum grade: {max_grade}\")\n",
        "print(f\"Minimum grade: {min_grade}\")\n",
        "\n",
        "sorted_grades = np.sort(grades)\n",
        "\n",
        "print(f\"Sorted grades: {sorted_grades}\")\n",
        "\n",
        "index_of_max = np.argmax(grades)\n",
        "\n",
        "print(f\"Index of the highest grade: {index_of_max}\")\n",
        "\n",
        "count_above_90 = np.count_nonzero(grades > 90)\n",
        "\n",
        "print(f\"Number of students who scored above 90: {count_above_90}\")\n",
        "\n",
        "percentage_above_90 = np.mean(grades > 90) * 100\n",
        "\n",
        "print(f\"Percentage of students who scored above 90: {percentage_above_90}%\")\n",
        "\n",
        "percentage_below_75 = np.mean(grades < 75) * 100\n",
        "\n",
        "print(f\"Percentage of students who scored below 75: {percentage_below_75}%\")\n",
        "\n",
        "high_performers = grades[grades > 90]\n",
        "\n",
        "print(f\"High performers: {high_performers}\")\n",
        "\n",
        "passing_grades = grades[grades > 75]\n",
        "\n",
        "print(f\"Passing grades: {passing_grades}\")\n"
      ]
    }
  ]
}