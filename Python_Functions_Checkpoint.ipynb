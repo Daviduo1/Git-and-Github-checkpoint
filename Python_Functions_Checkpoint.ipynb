{
  "nbformat": 4,
  "nbformat_minor": 0,
  "metadata": {
    "colab": {
      "provenance": [],
      "authorship_tag": "ABX9TyMqfSJcUeFpso/0abomSIkh",
      "include_colab_link": true
    },
    "kernelspec": {
      "name": "python3",
      "display_name": "Python 3"
    },
    "language_info": {
      "name": "python"
    }
  },
  "cells": [
    {
      "cell_type": "markdown",
      "metadata": {
        "id": "view-in-github",
        "colab_type": "text"
      },
      "source": [
        "<a href=\"https://colab.research.google.com/github/Daviduo1/Git-and-Github-checkpoint/blob/main/Python_Functions_Checkpoint.ipynb\" target=\"_parent\"><img src=\"https://colab.research.google.com/assets/colab-badge.svg\" alt=\"Open In Colab\"/></a>"
      ]
    },
    {
      "cell_type": "code",
      "execution_count": 1,
      "metadata": {
        "colab": {
          "base_uri": "https://localhost:8080/"
        },
        "id": "ASdnpzF_mzYq",
        "outputId": "23b8d2eb-0b74-4e49-a710-713aefc7e74d"
      },
      "outputs": [
        {
          "output_type": "stream",
          "name": "stdout",
          "text": [
            "Enter the first number: 4\n",
            "Available operations:\n",
            "+\n",
            "-\n",
            "*\n",
            "/\n",
            "Select an operation: +\n",
            "Enter the second number: 5\n",
            "4.0 + 5.0 = 9.0\n",
            "Do you want to continue with the result? (yes/no): yes\n",
            "Available operations:\n",
            "+\n",
            "-\n",
            "*\n",
            "/\n",
            "Select an operation: -\n",
            "Enter the second number: 4\n",
            "9.0 - 4.0 = 5.0\n",
            "Do you want to continue with the result? (yes/no): no\n",
            "Do you want to start a new calculation? (yes/no): no\n",
            "Goodbye!\n"
          ]
        }
      ],
      "source": [
        "# Define the basic mathematical functions\n",
        "def add(x, y):\n",
        "    return x + y\n",
        "\n",
        "def subtract(x, y):\n",
        "    return x - y\n",
        "\n",
        "def multiply(x, y):\n",
        "    return x * y\n",
        "\n",
        "def divide(x, y):\n",
        "    if y != 0:\n",
        "        return x / y\n",
        "    else:\n",
        "        return \"Error! Division by zero.\"\n",
        "\n",
        "# Create a dictionary to assign functions to operation symbols\n",
        "operations = {\n",
        "    '+': add,\n",
        "    '-': subtract,\n",
        "    '*': multiply,\n",
        "    '/': divide\n",
        "}\n",
        "\n",
        "# Define the calculator function\n",
        "def calculator():\n",
        "    num1 = float(input(\"Enter the first number: \"))\n",
        "\n",
        "    while True:\n",
        "        # Print available operation symbols\n",
        "        print(\"Available operations:\")\n",
        "        for symbol in operations:\n",
        "            print(symbol)\n",
        "\n",
        "        # Prompt the user to select an operation symbol\n",
        "        operation = input(\"Select an operation: \")\n",
        "\n",
        "        # Check if the operation is valid\n",
        "        if operation in operations:\n",
        "            num2 = float(input(\"Enter the second number: \"))\n",
        "\n",
        "            # Retrieve the function corresponding to the selected operation\n",
        "            calculation_function = operations[operation]\n",
        "\n",
        "            # Perform the calculation\n",
        "            answer = calculation_function(num1, num2)\n",
        "\n",
        "            # Print the equation and the result\n",
        "            print(f\"{num1} {operation} {num2} = {answer}\")\n",
        "\n",
        "            # Ask the user if they want to continue\n",
        "            continue_calculation = input(\"Do you want to continue with the result? (yes/no): \").lower()\n",
        "            if continue_calculation == 'yes':\n",
        "                num1 = answer\n",
        "            else:\n",
        "                break\n",
        "        else:\n",
        "            print(\"Invalid operation. Please try again.\")\n",
        "\n",
        "    # Ask if the user wants to start a new calculation\n",
        "    new_calculation = input(\"Do you want to start a new calculation? (yes/no): \").lower()\n",
        "    if new_calculation == 'yes':\n",
        "        calculator()\n",
        "    else:\n",
        "        print(\"Goodbye!\")\n",
        "\n",
        "# Start the calculator\n",
        "calculator()\n"
      ]
    }
  ]
}