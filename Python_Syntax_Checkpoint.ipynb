{
  "nbformat": 4,
  "nbformat_minor": 0,
  "metadata": {
    "colab": {
      "provenance": [],
      "authorship_tag": "ABX9TyOWbhPBqRHEmBId15gdNgVQ",
      "include_colab_link": true
    },
    "kernelspec": {
      "name": "python3",
      "display_name": "Python 3"
    },
    "language_info": {
      "name": "python"
    }
  },
  "cells": [
    {
      "cell_type": "markdown",
      "metadata": {
        "id": "view-in-github",
        "colab_type": "text"
      },
      "source": [
        "<a href=\"https://colab.research.google.com/github/Daviduo1/Git-and-Github-checkpoint/blob/main/Python_Syntax_Checkpoint.ipynb\" target=\"_parent\"><img src=\"https://colab.research.google.com/assets/colab-badge.svg\" alt=\"Open In Colab\"/></a>"
      ]
    },
    {
      "cell_type": "code",
      "execution_count": null,
      "metadata": {
        "colab": {
          "base_uri": "https://localhost:8080/"
        },
        "id": "nVj36tj0Gk1T",
        "outputId": "00b29794-b484-4b12-ab62-4cb6a672e10c"
      },
      "outputs": [
        {
          "output_type": "stream",
          "name": "stdout",
          "text": [
            "hello world !\n"
          ]
        }
      ],
      "source": [
        "print(\"hello world !\")"
      ]
    },
    {
      "cell_type": "code",
      "source": [
        "print('\"Python Print Function\"')"
      ],
      "metadata": {
        "colab": {
          "base_uri": "https://localhost:8080/"
        },
        "id": "YjbSSn_UHGFm",
        "outputId": "0a2212b5-8251-4fa9-e675-a4a2c6e87ff7"
      },
      "execution_count": null,
      "outputs": [
        {
          "output_type": "stream",
          "name": "stdout",
          "text": [
            "\"Python Print Function\"\n"
          ]
        }
      ]
    },
    {
      "cell_type": "code",
      "source": [
        "print('\"The function is declared like this:\"')"
      ],
      "metadata": {
        "colab": {
          "base_uri": "https://localhost:8080/"
        },
        "id": "FHFCnppeHS7C",
        "outputId": "6345f759-254b-40dc-f9d4-7cb355cc0497"
      },
      "execution_count": null,
      "outputs": [
        {
          "output_type": "stream",
          "name": "stdout",
          "text": [
            "\"The function is declared like this:\"\n"
          ]
        }
      ]
    },
    {
      "cell_type": "code",
      "source": [
        "print(\"print('what to print')\")"
      ],
      "metadata": {
        "colab": {
          "base_uri": "https://localhost:8080/"
        },
        "id": "ZyruyNl_HgVR",
        "outputId": "7e741236-e8c1-42c3-9962-1795dea9303b"
      },
      "execution_count": null,
      "outputs": [
        {
          "output_type": "stream",
          "name": "stdout",
          "text": [
            "print('what to print')\n"
          ]
        }
      ]
    },
    {
      "cell_type": "code",
      "source": [
        "num = 25\n",
        "if num %2 == 0 and num > 10:\n",
        "  print(f\"{num} is even and greater than 10\")\n",
        "else:\n",
        "     print(f\"{num} is even and not greater than 10\")\n"
      ],
      "metadata": {
        "colab": {
          "base_uri": "https://localhost:8080/"
        },
        "id": "GQGHJ-bjJP2Q",
        "outputId": "f87ffd54-c5fd-4abe-e26c-3fc9caaeabce"
      },
      "execution_count": null,
      "outputs": [
        {
          "output_type": "stream",
          "name": "stdout",
          "text": [
            "25 is even and not greater than 10\n"
          ]
        }
      ]
    },
    {
      "cell_type": "code",
      "source": [
        "x=19\n",
        "if x < 10:\n",
        "    print (\"Good morning\")\n",
        "elif x<12:\n",
        "    print (\"Soon time for lunch\")\n",
        "elif x<18:\n",
        "    print (\"Good day\")\n",
        "elif x<22:\n",
        "    print (\"Good evening\")\n",
        "else:\n",
        "    print (\"Good night\")"
      ],
      "metadata": {
        "colab": {
          "base_uri": "https://localhost:8080/"
        },
        "id": "CbAXpTZOJcqS",
        "outputId": "a0cd5815-3361-4fea-808f-d02cd851218a"
      },
      "execution_count": null,
      "outputs": [
        {
          "output_type": "stream",
          "name": "stdout",
          "text": [
            "Good evening\n"
          ]
        }
      ]
    },
    {
      "cell_type": "code",
      "source": [
        "def greet_user(name):\n",
        "    greeting = f\"Hello, {name}! Welcome to our program. We hope you have a great experience!\"\n",
        "    return greeting\n",
        "\n",
        "# Example usage\n",
        "user_name = input(\"Enter your name: \")\n",
        "print(greet_user(user_name))\n",
        "\n",
        "def ask_city():\n",
        "    city = input(\"What city did you grow up in? \")\n",
        "    return city\n",
        "\n",
        "# Example usage\n",
        "user_city = ask_city()\n",
        "print(f\"You grew up in {user_city}.\")\n",
        "\n",
        "def ask_pet_name():\n",
        "    pet_name = input(\"What is the name of your pet? \")\n",
        "    return pet_name\n",
        "\n",
        "# Example usage\n",
        "user_pet_name = ask_pet_name()\n",
        "print(f\"Your pet's name is {user_pet_name}.\")\n",
        "\n",
        "def generate_band_name():\n",
        "    city = input(\"What city did you grow up in? \")\n",
        "    pet_name = input(\"What is the name of your pet? \")\n",
        "    band_name = f\"{city} {pet_name}\"\n",
        "    return band_name\n",
        "\n",
        "# Example usage\n",
        "band_name = generate_band_name()\n",
        "print(f\"Your band name could be: {band_name}\")\n"
      ],
      "metadata": {
        "id": "NXVrORmWZFHW",
        "colab": {
          "base_uri": "https://localhost:8080/"
        },
        "outputId": "8c15a517-9db1-43fb-c246-10b5b3bb2006"
      },
      "execution_count": 4,
      "outputs": [
        {
          "output_type": "stream",
          "name": "stdout",
          "text": [
            "Enter your name: David okorom\n",
            "Hello, David okorom! Welcome to our program. We hope you have a great experience!\n",
            "What city did you grow up in? Lagos\n",
            "You grew up in Lagos.\n",
            "What is the name of your pet? momo\n",
            "Your pet's name is momo.\n",
            "What city did you grow up in? Lagos\n",
            "What is the name of your pet? momo\n",
            "Your band name could be: Lagos momo\n"
          ]
        }
      ]
    },
    {
      "cell_type": "code",
      "source": [
        "# Get a two-digit number from the user\n",
        "two_digit_number = input(\"Enter a two-digit number: \")\n",
        "\n",
        "# Ensure the input is a string so we can use subscripting\n",
        "# Extract the first and second digits\n",
        "first_digit = int(two_digit_number[0])\n",
        "second_digit = int(two_digit_number[1])\n",
        "\n",
        "# Add the two digits\n",
        "digit_sum = first_digit + second_digit\n",
        "\n",
        "# Print the result\n",
        "print(f\"{first_digit} + {second_digit} = {digit_sum}\")\n",
        "\n"
      ],
      "metadata": {
        "colab": {
          "base_uri": "https://localhost:8080/"
        },
        "id": "9Fnk9J21HNBI",
        "outputId": "68c97622-16cb-4e0d-b439-1c1921dad3f9"
      },
      "execution_count": 6,
      "outputs": [
        {
          "output_type": "stream",
          "name": "stdout",
          "text": [
            "Enter a two-digit number: 39\n",
            "3 + 9 = 12\n"
          ]
        }
      ]
    },
    {
      "cell_type": "code",
      "source": [
        "# Display a welcome message\n",
        "print(\"Welcome to Python Pizza Deliveries\")\n",
        "\n",
        "# Prompt the user for the size of the pizza\n",
        "size = input(\"What size pizza would you like? (Small, Medium, Large): \")\n",
        "\n",
        "# Prompt the user if they want pepperoni on their pizza\n",
        "add_pepperoni = input(\"Do you want pepperoni on your pizza? (Yes or No): \")\n",
        "\n",
        "# Prompt the user if they want extra cheese on their pizza\n",
        "extra_cheese = input(\"Do you want extra cheese on your pizza? (Yes or No): \")\n",
        "\n",
        "# Initialize the bill\n",
        "bill = 0\n",
        "\n",
        "# Determine the base price of the pizza\n",
        "if size.lower() == \"small\":\n",
        "    bill = 15\n",
        "elif size.lower() == \"medium\":\n",
        "    bill = 20\n",
        "elif size.lower() == \"large\":\n",
        "    bill = 25\n",
        "\n",
        "# Add the cost of pepperoni if requested\n",
        "if add_pepperoni.lower() == \"yes\":\n",
        "    if size.lower() == \"small\":\n",
        "        bill += 2\n",
        "    else:\n",
        "        bill += 3\n",
        "\n",
        "# Add the cost of extra cheese if requested\n",
        "if extra_cheese.lower() == \"yes\":\n",
        "    bill += 1\n",
        "\n",
        "# Print the final bill\n",
        "print(f\"Your final bill is: ${bill}\")\n",
        "\n",
        "\n",
        "\n",
        "\n",
        "\n"
      ],
      "metadata": {
        "colab": {
          "base_uri": "https://localhost:8080/"
        },
        "id": "qeZX93rbKtEa",
        "outputId": "7256b5d8-5470-47b8-817d-d0fae319a888"
      },
      "execution_count": 5,
      "outputs": [
        {
          "output_type": "stream",
          "name": "stdout",
          "text": [
            "Welcome to Python Pizza Deliveries\n",
            "What size pizza would you like? (Small, Medium, Large): Large\n",
            "Do you want pepperoni on your pizza? (Yes or No): yes\n",
            "Do you want extra cheese on your pizza? (Yes or No): No\n",
            "Your final bill is: $28\n"
          ]
        }
      ]
    }
  ]
}