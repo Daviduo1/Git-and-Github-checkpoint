{
  "nbformat": 4,
  "nbformat_minor": 0,
  "metadata": {
    "colab": {
      "provenance": [],
      "authorship_tag": "ABX9TyNkKYH//yq/gYoWvGBhdiNH",
      "include_colab_link": true
    },
    "kernelspec": {
      "name": "python3",
      "display_name": "Python 3"
    },
    "language_info": {
      "name": "python"
    }
  },
  "cells": [
    {
      "cell_type": "markdown",
      "metadata": {
        "id": "view-in-github",
        "colab_type": "text"
      },
      "source": [
        "<a href=\"https://colab.research.google.com/github/Daviduo1/Git-and-Github-checkpoint/blob/main/Python_Syntax_Checkpoint.ipynb\" target=\"_parent\"><img src=\"https://colab.research.google.com/assets/colab-badge.svg\" alt=\"Open In Colab\"/></a>"
      ]
    },
    {
      "cell_type": "code",
      "execution_count": 1,
      "metadata": {
        "colab": {
          "base_uri": "https://localhost:8080/"
        },
        "id": "i5z6jBmTl60K",
        "outputId": "7fd9e544-65d8-4c7d-e3db-8ac3e50741a4"
      },
      "outputs": [
        {
          "output_type": "stream",
          "name": "stdout",
          "text": [
            "Welcome to Python Pizza Deliveries\n",
            "What size pizza would you like? (Small, Medium, Large): Large\n",
            "Do you want pepperoni on your pizza? (Yes or No): Yes\n",
            "Do you want extra cheese on your pizza? (Yes or No): No\n",
            "Your final bill is: $28\n"
          ]
        }
      ],
      "source": [
        "# Display a welcome message\n",
        "print(\"Welcome to Python Pizza Deliveries\")\n",
        "\n",
        "# Prompt the user for the size of the pizza\n",
        "size = input(\"What size pizza would you like? (Small, Medium, Large): \")\n",
        "\n",
        "# Prompt the user if they want pepperoni on their pizza\n",
        "add_pepperoni = input(\"Do you want pepperoni on your pizza? (Yes or No): \")\n",
        "\n",
        "# Prompt the user if they want extra cheese on their pizza\n",
        "extra_cheese = input(\"Do you want extra cheese on your pizza? (Yes or No): \")\n",
        "\n",
        "# Initialize the bill\n",
        "bill = 0\n",
        "\n",
        "# Determine the base price of the pizza\n",
        "if size.lower() == \"small\":\n",
        "    bill = 15\n",
        "elif size.lower() == \"medium\":\n",
        "    bill = 20\n",
        "elif size.lower() == \"large\":\n",
        "    bill = 25\n",
        "\n",
        "# Add the cost of pepperoni if requested\n",
        "if add_pepperoni.lower() == \"yes\":\n",
        "    if size.lower() == \"small\":\n",
        "        bill += 2\n",
        "    else:\n",
        "        bill += 3\n",
        "\n",
        "# Add the cost of extra cheese if requested\n",
        "if extra_cheese.lower() == \"yes\":\n",
        "    bill += 1\n",
        "\n",
        "# Print the final bill\n",
        "print(f\"Your final bill is: ${bill}\")"
      ]
    }
  ]
}